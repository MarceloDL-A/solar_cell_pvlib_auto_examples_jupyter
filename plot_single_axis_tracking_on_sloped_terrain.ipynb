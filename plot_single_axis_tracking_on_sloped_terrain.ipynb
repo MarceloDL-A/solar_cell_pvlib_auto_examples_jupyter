{
 "cells": [
  {
   "cell_type": "code",
   "execution_count": 5,
   "metadata": {
    "collapsed": false,
    "jupyter": {
     "outputs_hidden": false
    }
   },
   "outputs": [],
   "source": [
    "%matplotlib inline"
   ]
  },
  {
   "cell_type": "markdown",
   "metadata": {},
   "source": [
    "\n",
    "# Backtracking on sloped terrain\n",
    "\n",
    "Modeling backtracking for single-axis tracker arrays on sloped terrain.\n"
   ]
  },
  {
   "cell_type": "markdown",
   "metadata": {},
   "source": [
    "Tracker systems use backtracking to avoid row-to-row shading when the\n",
    "sun is low in the sky. The backtracking strategy orients the modules exactly\n",
    "on the boundary between shaded and unshaded so that the modules are oriented\n",
    "as much towards the sun as possible while still remaining unshaded.\n",
    "Unlike the true-tracking calculation (which only depends on solar position),\n",
    "calculating the backtracking angle requires knowledge of the relative spacing\n",
    "of adjacent tracker rows. This example shows how the backtracking angle\n",
    "changes based on a vertical offset between rows caused by sloped terrain.\n",
    "It uses :py:func:`pvlib.tracking.calc_axis_tilt` and\n",
    ":py:func:`pvlib.tracking.calc_cross_axis_tilt` to calculate the necessary\n",
    "array geometry parameters and :py:func:`pvlib.tracking.singleaxis` to\n",
    "calculate the backtracking angles.\n",
    "\n",
    "## Angle conventions\n",
    "\n",
    "First let's go over the sign conventions used for angles. In contrast to\n",
    "fixed-tilt arrays where the azimuth is that of the normal to the panels, the\n",
    "convention for the azimuth of a single-axis tracker is along the tracker\n",
    "axis. Note that the axis azimuth is a property of the array and is distinct\n",
    "from the azimuth of the panel orientation, which changes based on tracker\n",
    "rotation angle. Because the tracker axis points in two directions, there are\n",
    "two choices for the axis azimuth angle, and by convention (at least in the\n",
    "northern hemisphere), the more southward angle is chosen:\n",
    "\n",
    "<img src=\"file://../_images/tracker_azimuth_angle_convention.png\" alt=\"Image showing the azimuth convention for single-axis tracker arrays.\" width=\"500\" align=\"center\">\n",
    "\n",
    "Note that, as with fixed-tilt arrays, the axis azimuth is determined as the\n",
    "angle clockwise from north. The azimuth of the terrain's slope is also\n",
    "determined as an angle clockwise from north, pointing in the direction\n",
    "of falling slope. So for example, a hillside that slopes down to the east\n",
    "has an azimuth of 90 degrees.\n",
    "\n",
    "Using the axis azimuth convention above, the sign convention for tracker\n",
    "rotations is given by the\n",
    "`right-hand rule <https://en.wikipedia.org/wiki/Right-hand_rule>`_.\n",
    "Point the right hand thumb along the axis in the direction of the axis\n",
    "azimuth and the fingers curl in the direction of positive rotation angle:\n",
    "\n",
    "<img src=\"file://../_images/tracker_rotation_angle_convention.png\" alt=\"Image showing the rotation sign convention for single-axis trackers.\" width=\"500\" align=\"center\">\n",
    "\n",
    "So for an array with ``axis_azimuth=180`` (tracker axis aligned perfectly\n",
    "north-south), pointing the right-hand thumb along the axis azimuth has the\n",
    "fingers curling towards the west, meaning rotations towards the west are\n",
    "positive and rotations towards the east are negative.\n",
    "\n",
    "The ground slope itself is always positive, but the component of the slope\n",
    "perpendicular to the tracker axes can be positive or negative. The convention\n",
    "for the cross-axis slope angle follows the right-hand rule: align\n",
    "the right-hand thumb along the tracker axis in the direction of the axis\n",
    "azimuth and the fingers curl towards positive angles. So in this example,\n",
    "with the axis azimuth coming out of the page, an east-facing, downward slope\n",
    "is a negative rotation from horizontal:\n",
    "\n",
    "<img src=\"file://../_images/ground_slope_angle_convention.png\" alt=\"Image showing the ground slope sign convention.\" width=\"500\" align=\"center\">\n",
    "\n",
    "\n"
   ]
  },
  {
   "cell_type": "markdown",
   "metadata": {},
   "source": [
    "## Rotation curves\n",
    "\n",
    "Now, let's plot the simple case where the tracker axes are at right angles\n",
    "to the direction of the slope.  In this case, the cross-axis tilt angle\n",
    "is the same as the slope of the terrain and the tracker axis itself is\n",
    "horizontal.\n",
    "\n"
   ]
  },
  {
   "cell_type": "code",
   "execution_count": 6,
   "metadata": {
    "collapsed": false,
    "jupyter": {
     "outputs_hidden": false
    }
   },
   "outputs": [
    {
     "data": {
      "image/png": "[encoded data removed]",
      "text/plain": [
       "<Figure size 432x288 with 1 Axes>"
      ]
     },
     "metadata": {
      "needs_background": "light"
     },
     "output_type": "display_data"
    }
   ],
   "source": [
    "from pvlib import solarposition, tracking\n",
    "import pandas as pd\n",
    "import matplotlib.pyplot as plt\n",
    "\n",
    "# PV system parameters\n",
    "tz = 'US/Eastern'\n",
    "lat, lon = 40, -80\n",
    "gcr = 0.4\n",
    "\n",
    "# calculate the solar position\n",
    "times = pd.date_range('2019-01-01 06:00', '2019-01-01 18:00', closed='left',\n",
    "                      freq='1min', tz=tz)\n",
    "solpos = solarposition.get_solarposition(times, lat, lon)\n",
    "\n",
    "# compare the backtracking angle at various terrain slopes\n",
    "fig, ax = plt.subplots()\n",
    "for cross_axis_tilt in [0, 5, 10]:\n",
    "    tracker_data = tracking.singleaxis(\n",
    "        apparent_zenith=solpos['apparent_zenith'],\n",
    "        apparent_azimuth=solpos['azimuth'],\n",
    "        axis_tilt=0,  # flat because the axis is perpendicular to the slope\n",
    "        axis_azimuth=180,  # N-S axis, azimuth facing south\n",
    "        max_angle=90,\n",
    "        backtrack=True,\n",
    "        gcr=gcr,\n",
    "        cross_axis_tilt=cross_axis_tilt)\n",
    "\n",
    "    # tracker rotation is undefined at night\n",
    "    backtracking_position = tracker_data['tracker_theta'].fillna(0)\n",
    "    label = 'cross-axis tilt: {}°'.format(cross_axis_tilt)\n",
    "    backtracking_position.plot(label=label, ax=ax)\n",
    "\n",
    "plt.legend()\n",
    "plt.title('Backtracking Curves')\n",
    "plt.show()"
   ]
  },
  {
   "cell_type": "markdown",
   "metadata": {},
   "source": [
    "This plot shows how backtracking changes based on the slope between rows.\n",
    "For example, unlike the flat-terrain backtracking curve, the sloped-terrain\n",
    "curves do not approach zero at the end of the day. Because of the vertical\n",
    "offset between rows introduced by the sloped terrain, the trackers can be\n",
    "slightly tilted without shading each other.\n",
    "\n",
    "Now let's examine the general case where the terrain slope makes an\n",
    "inconvenient angle to the tracker axes. For example, consider an array\n",
    "with north-south axes on terrain that slopes down to the south-south-east.\n",
    "Assuming the axes are installed parallel to the ground, the northern ends\n",
    "of the axes will be higher than the southern ends. But because the slope\n",
    "isn't purely parallel or perpendicular to the axes, the axis tilt and\n",
    "cross-axis tilt angles are not immediately obvious. We can use pvlib\n",
    "to calculate them for us:\n",
    "\n"
   ]
  },
  {
   "cell_type": "code",
   "execution_count": 7,
   "metadata": {
    "collapsed": false,
    "jupyter": {
     "outputs_hidden": false
    }
   },
   "outputs": [
    {
     "name": "stdout",
     "output_type": "stream",
     "text": [
      "Axis tilt: 9.1°\n",
      "Cross-axis tilt: -4.2°\n"
     ]
    }
   ],
   "source": [
    "# terrain slopes 10 degrees downward to the south-south-east. note: because\n",
    "# slope_azimuth is defined in the direction of falling slope, slope_tilt is\n",
    "# always positive.\n",
    "slope_azimuth = 155\n",
    "slope_tilt = 10\n",
    "axis_azimuth = 180  # tracker axis is still N-S\n",
    "\n",
    "# calculate the tracker axis tilt, assuming that the axis follows the terrain:\n",
    "axis_tilt = tracking.calc_axis_tilt(slope_azimuth, slope_tilt, axis_azimuth)\n",
    "\n",
    "# calculate the cross-axis tilt:\n",
    "cross_axis_tilt = tracking.calc_cross_axis_tilt(slope_azimuth, slope_tilt,\n",
    "                                                axis_azimuth, axis_tilt)\n",
    "\n",
    "print('Axis tilt:', '{:0.01f}°'.format(axis_tilt))\n",
    "print('Cross-axis tilt:', '{:0.01f}°'.format(cross_axis_tilt))"
   ]
  },
  {
   "cell_type": "markdown",
   "metadata": {},
   "source": [
    "And now we can pass use these values to generate the tracker curve as\n",
    "before:\n",
    "\n"
   ]
  },
  {
   "cell_type": "code",
   "execution_count": 8,
   "metadata": {
    "collapsed": false,
    "jupyter": {
     "outputs_hidden": false
    }
   },
   "outputs": [
    {
     "data": {
      "image/png": "[encoded data removed]",
      "text/plain": [
       "<Figure size 432x288 with 1 Axes>"
      ]
     },
     "metadata": {
      "needs_background": "light"
     },
     "output_type": "display_data"
    }
   ],
   "source": [
    "tracker_data = tracking.singleaxis(\n",
    "    apparent_zenith=solpos['apparent_zenith'],\n",
    "    apparent_azimuth=solpos['azimuth'],\n",
    "    axis_tilt=axis_tilt,  # no longer flat because the terrain imparts a tilt\n",
    "    axis_azimuth=axis_azimuth,\n",
    "    max_angle=90,\n",
    "    backtrack=True,\n",
    "    gcr=gcr,\n",
    "    cross_axis_tilt=cross_axis_tilt)\n",
    "\n",
    "backtracking_position = tracker_data['tracker_theta'].fillna(0)\n",
    "backtracking_position.plot()\n",
    "\n",
    "title_template = 'Axis tilt: {:0.01f}°   Cross-axis tilt: {:0.01f}°'\n",
    "plt.title(title_template.format(axis_tilt, cross_axis_tilt))\n",
    "plt.show()"
   ]
  },
  {
   "cell_type": "markdown",
   "metadata": {},
   "source": [
    "Note that the backtracking curve is roughly mirrored compared with the\n",
    "earlier example -- it is because the terrain is now sloped somewhat to the\n",
    "east instead of west.\n",
    "\n"
   ]
  }
 ],
 "metadata": {
  "kernelspec": {
   "display_name": "Python 3",
   "language": "python",
   "name": "python3"
  },
  "language_info": {
   "codemirror_mode": {
    "name": "ipython",
    "version": 3
   },
   "file_extension": ".py",
   "mimetype": "text/x-python",
   "name": "python",
   "nbconvert_exporter": "python",
   "pygments_lexer": "ipython3",
   "version": "3.8.8"
  }
 },
 "nbformat": 4,
 "nbformat_minor": 4
}

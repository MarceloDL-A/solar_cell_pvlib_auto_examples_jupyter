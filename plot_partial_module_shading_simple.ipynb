{
 "cells": [
  {
   "cell_type": "code",
   "execution_count": 1,
   "metadata": {
    "collapsed": false,
    "jupyter": {
     "outputs_hidden": false
    }
   },
   "outputs": [],
   "source": [
    "%matplotlib inline"
   ]
  },
  {
   "cell_type": "markdown",
   "metadata": {},
   "source": [
    "\n",
    "# Calculating power loss from partial module shading\n",
    "\n",
    "Example of modeling cell-to-cell mismatch loss from partial module shading.\n"
   ]
  },
  {
   "cell_type": "markdown",
   "metadata": {},
   "source": [
    "Even though the PV cell is the primary power generation unit, PV modeling is\n",
    "often done at the module level for simplicity because module-level parameters\n",
    "are much more available and it significantly reduces the computational scope\n",
    "of the simulation.  However, module-level simulations are too coarse to be\n",
    "able to model effects like cell to cell mismatch or partial shading.  This\n",
    "example calculates cell-level IV curves and combines them to reconstruct\n",
    "the module-level IV curve.  It uses this approach to find the maximum power\n",
    "under various shading and irradiance conditions.\n",
    "\n",
    "The primary functions used here are:\n",
    "\n",
    "- :py:meth:`pvlib.pvsystem.calcparams_desoto` to estimate the single\n",
    "  diode equation parameters at some specified operating conditions.\n",
    "- :py:meth:`pvlib.singlediode.bishop88` to calculate the full cell IV curve,\n",
    "  including the reverse bias region.\n",
    "\n",
    "<div class=\"alert alert-info\"><h4>Note</h4><p>This example requires the reverse bias functionality added in pvlib 0.7.2</p></div>\n",
    "\n",
    "<div class=\"alert alert-danger\"><h4>Warning</h4><p>Modeling partial module shading is complicated and depends significantly\n",
    "    on the module's electrical topology.  This example makes some simplifying\n",
    "    assumptions that are not generally applicable.  For instance, it assumes\n",
    "    that shading only applies to beam irradiance (*i.e.* all cells receive\n",
    "    the same amount of diffuse irradiance) and cell temperature is uniform\n",
    "    and not affected by cell-level irradiance variation.</p></div>\n",
    "\n"
   ]
  },
  {
   "cell_type": "code",
   "execution_count": 2,
   "metadata": {
    "collapsed": false,
    "jupyter": {
     "outputs_hidden": false
    }
   },
   "outputs": [],
   "source": [
    "from pvlib import pvsystem, singlediode\n",
    "import pandas as pd\n",
    "import numpy as np\n",
    "from scipy.interpolate import interp1d\n",
    "import matplotlib.pyplot as plt\n",
    "\n",
    "from scipy.constants import e as qe, k as kB\n",
    "\n",
    "# For simplicity, use cell temperature of 25C for all calculations.\n",
    "# kB is J/K, qe is C=J/V\n",
    "# kB * T / qe -> V\n",
    "Vth = kB * (273.15+25) / qe\n",
    "\n",
    "cell_parameters = {\n",
    "    'I_L_ref': 8.24,\n",
    "    'I_o_ref': 2.36e-9,\n",
    "    'a_ref': 1.3*Vth,\n",
    "    'R_sh_ref': 1000,\n",
    "    'R_s': 0.00181,\n",
    "    'alpha_sc': 0.0042,\n",
    "    'breakdown_factor': 2e-3,\n",
    "    'breakdown_exp': 3,\n",
    "    'breakdown_voltage': -15,\n",
    "}"
   ]
  },
  {
   "cell_type": "markdown",
   "metadata": {},
   "source": [
    "## Simulating a cell IV curve\n",
    "\n",
    "First, calculate IV curves for individual cells.  The process is as follows:\n",
    "\n",
    "1) Given a set of cell parameters at reference conditions and the operating\n",
    "   conditions of interest (irradiance and temperature), use a single-diode\n",
    "   model to calculate the single diode equation parameters for the cell at\n",
    "   the operating conditions.  Here we use the De Soto model via\n",
    "   :py:func:`pvlib.pvsystem.calcparams_desoto`.\n",
    "2) The single diode equation cannot be solved analytically, so pvlib has\n",
    "   implemented a couple methods of solving it for us.  However, currently\n",
    "   only the Bishop '88 method (:py:func:`pvlib.singlediode.bishop88`) has\n",
    "   the ability to model the reverse bias characteristic in addition to the\n",
    "   forward characteristic.  Depending on the nature of the shadow, it is\n",
    "   sometimes necessary to model the reverse bias portion of the IV curve,\n",
    "   so we use the Bishop '88 method here.  This gives us a set of (V, I)\n",
    "   points on the cell's IV curve.\n",
    "\n"
   ]
  },
  {
   "cell_type": "code",
   "execution_count": 3,
   "metadata": {
    "collapsed": false,
    "jupyter": {
     "outputs_hidden": false
    }
   },
   "outputs": [],
   "source": [
    "def simulate_full_curve(parameters, Geff, Tcell, ivcurve_pnts=1000):\n",
    "    \"\"\"\n",
    "    Use De Soto and Bishop to simulate a full IV curve with both\n",
    "    forward and reverse bias regions.\n",
    "    \"\"\"\n",
    "    # adjust the reference parameters according to the operating\n",
    "    # conditions using the De Soto model:\n",
    "    sde_args = pvsystem.calcparams_desoto(\n",
    "        Geff,\n",
    "        Tcell,\n",
    "        alpha_sc=parameters['alpha_sc'],\n",
    "        a_ref=parameters['a_ref'],\n",
    "        I_L_ref=parameters['I_L_ref'],\n",
    "        I_o_ref=parameters['I_o_ref'],\n",
    "        R_sh_ref=parameters['R_sh_ref'],\n",
    "        R_s=parameters['R_s'],\n",
    "    )\n",
    "    # sde_args has values:\n",
    "    # (photocurrent, saturation_current, resistance_series,\n",
    "    # resistance_shunt, nNsVth)\n",
    "\n",
    "    # Use Bishop's method to calculate points on the IV curve with V ranging\n",
    "    # from the reverse breakdown voltage to open circuit\n",
    "    kwargs = {\n",
    "        'breakdown_factor': parameters['breakdown_factor'],\n",
    "        'breakdown_exp': parameters['breakdown_exp'],\n",
    "        'breakdown_voltage': parameters['breakdown_voltage'],\n",
    "    }\n",
    "    v_oc = singlediode.bishop88_v_from_i(\n",
    "        0.0, *sde_args, **kwargs\n",
    "    )\n",
    "    # ideally would use some intelligent log-spacing to concentrate points\n",
    "    # around the forward- and reverse-bias knees, but this is good enough:\n",
    "    vd = np.linspace(0.99*kwargs['breakdown_voltage'], v_oc, ivcurve_pnts)\n",
    "\n",
    "    ivcurve_i, ivcurve_v, _ = singlediode.bishop88(vd, *sde_args, **kwargs)\n",
    "    return pd.DataFrame({\n",
    "        'i': ivcurve_i,\n",
    "        'v': ivcurve_v,\n",
    "    })"
   ]
  },
  {
   "cell_type": "markdown",
   "metadata": {},
   "source": [
    "Now that we can calculate cell-level IV curves, let's compare a\n",
    "fully-illuminated cell's curve to a shaded cell's curve.  Note that shading\n",
    "typically does not reduce a cell's illumination to zero -- tree shading and\n",
    "row-to-row shading block the beam portion of irradiance but leave the diffuse\n",
    "portion largely intact.  In this example plot, we choose $200 W/m^2$\n",
    "as the amount of irradiance received by a shaded cell.\n",
    "\n"
   ]
  },
  {
   "cell_type": "code",
   "execution_count": 4,
   "metadata": {
    "collapsed": false,
    "jupyter": {
     "outputs_hidden": false
    }
   },
   "outputs": [
    {
     "data": {
      "image/png": "[encoded data removed]",
      "text/plain": [
       "<Figure size 360x216 with 2 Axes>"
      ]
     },
     "metadata": {
      "needs_background": "light"
     },
     "output_type": "display_data"
    }
   ],
   "source": [
    "def plot_curves(dfs, labels, title):\n",
    "    \"\"\"plot the forward- and reverse-bias portions of an IV curve\"\"\"\n",
    "    fig, axes = plt.subplots(1, 2, sharey=True, figsize=(5, 3))\n",
    "    for df, label in zip(dfs, labels):\n",
    "        df.plot('v', 'i', label=label, ax=axes[0])\n",
    "        df.plot('v', 'i', label=label, ax=axes[1])\n",
    "        axes[0].set_xlim(right=0)\n",
    "        axes[0].set_ylim([0, 25])\n",
    "        axes[1].set_xlim([0, df['v'].max()*1.5])\n",
    "    axes[0].set_ylabel('current [A]')\n",
    "    axes[0].set_xlabel('voltage [V]')\n",
    "    axes[1].set_xlabel('voltage [V]')\n",
    "    fig.suptitle(title)\n",
    "    fig.tight_layout()\n",
    "    return axes\n",
    "\n",
    "\n",
    "cell_curve_full_sun = simulate_full_curve(cell_parameters, Geff=1000, Tcell=25)\n",
    "cell_curve_shaded = simulate_full_curve(cell_parameters, Geff=200, Tcell=25)\n",
    "ax = plot_curves([cell_curve_full_sun, cell_curve_shaded],\n",
    "                 labels=['Full Sun', 'Shaded'],\n",
    "                 title='Cell-level reverse- and forward-biased IV curves')"
   ]
  },
  {
   "cell_type": "markdown",
   "metadata": {},
   "source": [
    "This figure shows how a cell's current decreases roughly in proportion to\n",
    "the irradiance reduction from shading, but voltage changes much less.\n",
    "At the cell level, the effect of shading is essentially to shift the I-V\n",
    "curve down to lower currents rather than change the curve's shape.\n",
    "\n",
    "Note that the forward and reverse curves are plotted separately to\n",
    "accommodate the different voltage scales involved -- a normal crystalline\n",
    "silicon cell reaches only ~0.6V in forward bias, but can get to -10 to -20V\n",
    "in reverse bias.\n",
    "\n",
    "## Combining cell IV curves to create a module IV curve\n",
    "\n",
    "To combine the individual cell IV curves and form a module's IV curve,\n",
    "the cells in each substring must be added in series.  The substrings are\n",
    "in series as well, but with parallel bypass diodes to protect from reverse\n",
    "bias voltages.  To add in series, the voltages for a given current are\n",
    "added.  However, because each cell's curve is discretized and the currents\n",
    "might not line up, we align each curve to a common set of current values\n",
    "with interpolation.\n",
    "\n"
   ]
  },
  {
   "cell_type": "code",
   "execution_count": 5,
   "metadata": {
    "collapsed": false,
    "jupyter": {
     "outputs_hidden": false
    }
   },
   "outputs": [],
   "source": [
    "def interpolate(df, i):\n",
    "    \"\"\"convenience wrapper around scipy.interpolate.interp1d\"\"\"\n",
    "    f_interp = interp1d(np.flipud(df['i']), np.flipud(df['v']), kind='linear',\n",
    "                        fill_value='extrapolate')\n",
    "    return f_interp(i)\n",
    "\n",
    "\n",
    "def combine_series(dfs):\n",
    "    \"\"\"\n",
    "    Combine IV curves in series by aligning currents and summing voltages.\n",
    "    The current range is based on the first curve's current range.\n",
    "    \"\"\"\n",
    "    df1 = dfs[0]\n",
    "    imin = df1['i'].min()\n",
    "    imax = df1['i'].max()\n",
    "    i = np.linspace(imin, imax, 1000)\n",
    "    v = 0\n",
    "    for df2 in dfs:\n",
    "        v_cell = interpolate(df2, i)\n",
    "        v += v_cell\n",
    "    return pd.DataFrame({'i': i, 'v': v})"
   ]
  },
  {
   "cell_type": "markdown",
   "metadata": {},
   "source": [
    "Rather than simulate all 72 cells in the module, we'll assume that there\n",
    "are only three types of cells (fully illuminated, fully shaded, and\n",
    "partially shaded), and within each type all cells behave identically.  This\n",
    "means that simulating one cell from each type (for three cell simulations\n",
    "total) is sufficient to model the module as a whole.\n",
    "\n",
    "This function also models the effect of bypass diodes in parallel with each\n",
    "substring.  Bypass diodes are normally inactive but conduct when substring\n",
    "voltage becomes sufficiently negative, presumably due to the substring\n",
    "entering reverse bias from mismatch between substrings.  In that case the\n",
    "substring's voltage is clamped to the diode's trigger voltage (assumed to\n",
    "be 0.5V here).\n",
    "\n"
   ]
  },
  {
   "cell_type": "code",
   "execution_count": 6,
   "metadata": {
    "collapsed": false,
    "jupyter": {
     "outputs_hidden": false
    }
   },
   "outputs": [],
   "source": [
    "def simulate_module(cell_parameters, poa_direct, poa_diffuse, Tcell,\n",
    "                    shaded_fraction, cells_per_string=24, strings=3):\n",
    "    \"\"\"\n",
    "    Simulate the IV curve for a partially shaded module.\n",
    "    The shade is assumed to be coming up from the bottom of the module when in\n",
    "    portrait orientation, so it affects all substrings equally.\n",
    "    For simplicity, cell temperature is assumed to be uniform across the\n",
    "    module, regardless of variation in cell-level illumination.\n",
    "    Substrings are assumed to be \"down and back\", so the number of cells per\n",
    "    string is divided between two columns of cells.\n",
    "    \"\"\"\n",
    "    # find the number of cells per column that are in full shadow\n",
    "    nrow = cells_per_string // 2\n",
    "    nrow_full_shade = int(shaded_fraction * nrow)\n",
    "    # find the fraction of shade in the border row\n",
    "    partial_shade_fraction = 1 - (shaded_fraction * nrow - nrow_full_shade)\n",
    "\n",
    "    df_lit = simulate_full_curve(\n",
    "        cell_parameters,\n",
    "        poa_diffuse + poa_direct,\n",
    "        Tcell)\n",
    "    df_partial = simulate_full_curve(\n",
    "        cell_parameters,\n",
    "        poa_diffuse + partial_shade_fraction * poa_direct,\n",
    "        Tcell)\n",
    "    df_shaded = simulate_full_curve(\n",
    "        cell_parameters,\n",
    "        poa_diffuse,\n",
    "        Tcell)\n",
    "    # build a list of IV curves for a single column of cells (half a substring)\n",
    "    include_partial_cell = (shaded_fraction < 1)\n",
    "    half_substring_curves = (\n",
    "        [df_lit] * (nrow - nrow_full_shade - 1)\n",
    "        + ([df_partial] if include_partial_cell else [])  # noqa: W503\n",
    "        + [df_shaded] * nrow_full_shade  # noqa: W503\n",
    "    )\n",
    "    substring_curve = combine_series(half_substring_curves)\n",
    "    substring_curve['v'] *= 2  # turn half strings into whole strings\n",
    "    # bypass diode:\n",
    "    substring_curve['v'] = substring_curve['v'].clip(lower=-0.5)\n",
    "    # no need to interpolate since we're just scaling voltage directly:\n",
    "    substring_curve['v'] *= strings\n",
    "    return substring_curve"
   ]
  },
  {
   "cell_type": "markdown",
   "metadata": {},
   "source": [
    "Now let's see how shade affects the IV curves at the module level.  For this\n",
    "example, the bottom 10% of the module is shaded.  Assuming 12 cells per\n",
    "column, that means one row of cells is fully shaded and another row is\n",
    "partially shaded.  Even though only 10% of the module is shaded, the\n",
    "maximum power is decreased by roughly 80%!\n",
    "\n",
    "Note the effect of the bypass diodes.  Without bypass diodes, operating the\n",
    "shaded module at the same current as the fully illuminated module would\n",
    "create a reverse-bias voltage of several hundred volts!  However, the diodes\n",
    "prevent the reverse voltage from exceeding 1.5V (three diodes at 0.5V each).\n",
    "\n"
   ]
  },
  {
   "cell_type": "code",
   "execution_count": 7,
   "metadata": {
    "collapsed": false,
    "jupyter": {
     "outputs_hidden": false
    }
   },
   "outputs": [
    {
     "data": {
      "image/png": "[encoded data removed]",
      "text/plain": [
       "<Figure size 360x216 with 2 Axes>"
      ]
     },
     "metadata": {
      "needs_background": "light"
     },
     "output_type": "display_data"
    }
   ],
   "source": [
    "kwargs = {\n",
    "    'cell_parameters': cell_parameters,\n",
    "    'poa_direct': 800,\n",
    "    'poa_diffuse': 200,\n",
    "    'Tcell': 25\n",
    "}\n",
    "module_curve_full_sun = simulate_module(shaded_fraction=0, **kwargs)\n",
    "module_curve_shaded = simulate_module(shaded_fraction=0.1, **kwargs)\n",
    "ax = plot_curves([module_curve_full_sun, module_curve_shaded],\n",
    "                 labels=['Full Sun', 'Shaded'],\n",
    "                 title='Module-level reverse- and forward-biased IV curves')"
   ]
  },
  {
   "cell_type": "markdown",
   "metadata": {},
   "source": [
    "## Calculating shading loss across shading scenarios\n",
    "\n",
    "Clearly the module-level IV-curve is strongly affected by partial shading.\n",
    "This heatmap shows the module maximum power under a range of partial shade\n",
    "conditions, where \"diffuse fraction\" refers to the ratio\n",
    "$poa_{diffuse} / poa_{global}$ and \"shaded fraction\" refers to the\n",
    "fraction of the module that receives only diffuse irradiance.\n",
    "\n"
   ]
  },
  {
   "cell_type": "code",
   "execution_count": 8,
   "metadata": {
    "collapsed": false,
    "jupyter": {
     "outputs_hidden": false
    }
   },
   "outputs": [
    {
     "name": "stderr",
     "output_type": "stream",
     "text": [
      "C:\\Anaconda\\lib\\site-packages\\scipy\\interpolate\\interpolate.py:623: RuntimeWarning: divide by zero encountered in true_divide\n",
      "  slope = (y_hi - y_lo) / (x_hi - x_lo)[:, None]\n"
     ]
    },
    {
     "data": {
      "image/png": "[encoded data removed]",
      "text/plain": [
       "<Figure size 432x288 with 2 Axes>"
      ]
     },
     "metadata": {
      "needs_background": "light"
     },
     "output_type": "display_data"
    }
   ],
   "source": [
    "def find_pmp(df):\n",
    "    \"\"\"simple function to find Pmp on an IV curve\"\"\"\n",
    "    return df.product(axis=1).max()\n",
    "\n",
    "\n",
    "# find Pmp under different shading conditions\n",
    "data = []\n",
    "for diffuse_fraction in np.linspace(0, 1, 11):\n",
    "    for shaded_fraction in np.linspace(0, 1, 51):\n",
    "\n",
    "        df = simulate_module(cell_parameters,\n",
    "                             poa_direct=(1-diffuse_fraction)*1000,\n",
    "                             poa_diffuse=diffuse_fraction*1000,\n",
    "                             Tcell=25,\n",
    "                             shaded_fraction=shaded_fraction)\n",
    "        data.append({\n",
    "            'fd': diffuse_fraction,\n",
    "            'fs': shaded_fraction,\n",
    "            'pmp': find_pmp(df)\n",
    "        })\n",
    "\n",
    "results = pd.DataFrame(data)\n",
    "results['pmp'] /= results['pmp'].max()  # normalize power to 0-1\n",
    "results_pivot = results.pivot('fd', 'fs', 'pmp')\n",
    "plt.figure()\n",
    "plt.imshow(results_pivot, origin='lower', aspect='auto')\n",
    "plt.xlabel('shaded fraction')\n",
    "plt.ylabel('diffuse fraction')\n",
    "xlabels = [f\"{fs:0.02f}\" for fs in results_pivot.columns[::5]]\n",
    "ylabels = [f\"{fd:0.02f}\" for fd in results_pivot.index]\n",
    "plt.xticks(range(0, 5*len(xlabels), 5), xlabels)\n",
    "plt.yticks(range(0, len(ylabels)), ylabels)\n",
    "plt.title('Module P_mp across shading conditions')\n",
    "plt.colorbar()\n",
    "plt.show()\n",
    "# use this figure as the thumbnail:\n",
    "# sphinx_gallery_thumbnail_number = 3"
   ]
  },
  {
   "cell_type": "markdown",
   "metadata": {},
   "source": [
    "The heatmap makes a few things evident:\n",
    "\n",
    "- When diffuse fraction is equal to 1, there is no beam irradiance to lose,\n",
    "  so shading has no effect on production.\n",
    "- When shaded fraction is equal to 0, no irradiance is blocked, so module\n",
    "  output does not change with the diffuse fraction.\n",
    "- Under sunny conditions (diffuse fraction < 0.5), module output is\n",
    "  significantly reduced after just the first cell is shaded\n",
    "  (1/12 = ~8% shaded fraction).\n",
    "\n"
   ]
  }
 ],
 "metadata": {
  "kernelspec": {
   "display_name": "Python 3",
   "language": "python",
   "name": "python3"
  },
  "language_info": {
   "codemirror_mode": {
    "name": "ipython",
    "version": 3
   },
   "file_extension": ".py",
   "mimetype": "text/x-python",
   "name": "python",
   "nbconvert_exporter": "python",
   "pygments_lexer": "ipython3",
   "version": "3.8.8"
  }
 },
 "nbformat": 4,
 "nbformat_minor": 4
}
